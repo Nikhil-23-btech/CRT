{
 "cells": [
  {
   "cell_type": "markdown",
   "id": "d54a36a2-3059-4ea1-bbef-d6a4257cfe51",
   "metadata": {},
   "source": [
    "## CRT Day 1\n"
   ]
  },
  {
   "cell_type": "code",
   "execution_count": 2,
   "id": "3dc39939-6624-47d7-a46b-37b4cb1b329d",
   "metadata": {},
   "outputs": [
    {
     "name": "stdout",
     "output_type": "stream",
     "text": [
      "['False', 'None', 'True', 'and', 'as', 'assert', 'async', 'await', 'break', 'class', 'continue', 'def', 'del', 'elif', 'else', 'except', 'finally', 'for', 'from', 'global', 'if', 'import', 'in', 'is', 'lambda', 'nonlocal', 'not', 'or', 'pass', 'raise', 'return', 'try', 'while', 'with', 'yield']\n"
     ]
    }
   ],
   "source": [
    "# for printing the keywords in python\n",
    "\n",
    "import keyword as k\n",
    "print(k.kwlist)"
   ]
  },
  {
   "cell_type": "markdown",
   "id": "75091406-8c09-4bb5-a1be-017a10617d3f",
   "metadata": {},
   "source": [
    "### Conditions for creating a variable\n",
    "\n",
    "- A variable cannot start with a digit \n",
    "- No special characters\n",
    "- A keyword should not be used as a variable\n",
    "- No spaces are allowed in between the variables"
   ]
  },
  {
   "cell_type": "markdown",
   "id": "ba2f506f-0ffb-4996-844d-6c1f90de9b1c",
   "metadata": {},
   "source": [
    "- C language accepts ASCII values.There are 128 characters (0-127)\n",
    "- C++ language accepts extended ASCII values.Threr are 256 characters\n",
    "- The languages like python, java,C#,html uses unicode values"
   ]
  },
  {
   "cell_type": "markdown",
   "id": "db6ffe95-3959-4d91-bc96-a27f7bf24373",
   "metadata": {},
   "source": [
    "- The ASCII values of telugu letters starts from 3077 "
   ]
  },
  {
   "cell_type": "markdown",
   "id": "e525eb23-4e6d-4ac8-872a-7f96d098361b",
   "metadata": {},
   "source": [
    "## Datatypes in Python"
   ]
  },
  {
   "cell_type": "markdown",
   "id": "be0e62c8-310d-4ae2-96c8-03c47e6e636b",
   "metadata": {},
   "source": [
    "- Numerical\n",
    "  - int\n",
    "  - float\n",
    "  - complex\n",
    "- Boolean\n",
    "  - True\n",
    "  - False\n",
    "- Text\n",
    "  - str\n",
    "- Sequence\n",
    "  - range\n",
    "  - list\n",
    "  - tuple\n",
    "- Set\n",
    "  - set\n",
    "  - frozenset\n",
    "- Binarytype\n",
    "  - Bytes\n",
    "  - Bytearray\n",
    "  - memoryview"
   ]
  },
  {
   "cell_type": "markdown",
   "id": "efc83262-4668-41de-8d30-144dd6ded1a9",
   "metadata": {},
   "source": [
    "## Types of forms in int\n",
    "\n",
    "- Base 10 -> The values can be formed from 0-9\n",
    "- Base 2 -> The values are from 0-1\n",
    "- Base 8 -> The values are from 0-7\n",
    "- Base 16 -> The vales are from 0-9 and A to F"
   ]
  },
  {
   "cell_type": "code",
   "execution_count": 17,
   "id": "5d3c9db3-cd23-4ade-b0df-4b5619c0d209",
   "metadata": {},
   "outputs": [
    {
     "name": "stdout",
     "output_type": "stream",
     "text": [
      "అ\n",
      "ఆ\n",
      "ఇ\n",
      "ఈ\n",
      "ఉ\n",
      "ఊ\n",
      "ఋ\n",
      "ఌ\n",
      "఍\n",
      "ఎ\n",
      "ఏ\n",
      "ఐ\n",
      "఑\n",
      "ఒ\n",
      "ఓ\n",
      "ఔ\n",
      "క\n",
      "ఖ\n",
      "గ\n",
      "ఘ\n",
      "ఙ\n",
      "చ\n",
      "ఛ\n",
      "జ\n",
      "ఝ\n",
      "ఞ\n",
      "ట\n",
      "ఠ\n",
      "డ\n",
      "ఢ\n",
      "ణ\n",
      "త\n",
      "థ\n",
      "ద\n",
      "ధ\n",
      "న\n",
      "఩\n",
      "ప\n",
      "ఫ\n",
      "బ\n",
      "భ\n",
      "మ\n",
      "య\n",
      "ర\n",
      "ఱ\n",
      "ల\n",
      "ళ\n",
      "ఴ\n",
      "వ\n",
      "శ\n",
      "ష\n",
      "స\n",
      "హ\n",
      "఺\n",
      "఻\n",
      "఼\n",
      "ఽ\n",
      "ా\n",
      "ి\n",
      "ీ\n",
      "ు\n",
      "ూ\n",
      "ృ\n",
      "ౄ\n",
      "౅\n",
      "ె\n",
      "ే\n",
      "ై\n",
      "౉\n",
      "ొ\n",
      "ో\n",
      "ౌ\n",
      "్\n",
      "౎\n",
      "౏\n",
      "౐\n",
      "౑\n",
      "౒\n",
      "౓\n",
      "౔\n",
      "ౕ\n",
      "ౖ\n",
      "౗\n",
      "ౘ\n",
      "ౙ\n",
      "ౚ\n",
      "౛\n",
      "౜\n",
      "ౝ\n",
      "౞\n",
      "౟\n",
      "ౠ\n",
      "ౡ\n",
      "ౢ\n",
      "ౣ\n",
      "౤\n",
      "౥\n",
      "౦\n",
      "౧\n",
      "౨\n",
      "౩\n",
      "౪\n",
      "౫\n",
      "౬\n",
      "౭\n",
      "౮\n",
      "౯\n",
      "౰\n",
      "౱\n",
      "౲\n",
      "౳\n",
      "౴\n",
      "౵\n",
      "౶\n",
      "౷\n",
      "౸\n",
      "౹\n",
      "౺\n",
      "౻\n",
      "౼\n",
      "౽\n",
      "౾\n",
      "౿\n"
     ]
    }
   ],
   "source": [
    "# Printing the telugu alphabets in python\n",
    "for i in range(3077,3200):\n",
    "    print(chr(i))"
   ]
  },
  {
   "cell_type": "markdown",
   "id": "f4d9825f-70b0-40d6-ad6e-e77f174b170b",
   "metadata": {},
   "source": [
    "# Comments\n",
    "- The comments are non-executable code\n",
    "- the comments do not store utilize any memory space\n",
    "- First multiline string which were written in any function or class is called a doc string"
   ]
  },
  {
   "cell_type": "code",
   "execution_count": 20,
   "id": "e45dc437-fb1c-4412-bb28-6e37d1e1288d",
   "metadata": {},
   "outputs": [
    {
     "name": "stdout",
     "output_type": "stream",
     "text": [
      " My name is nikhil \n"
     ]
    }
   ],
   "source": [
    "# For accessing the doc string in python \n",
    "\n",
    "def aits():\n",
    "    ''' My name is nikhil '''\n",
    "    pass\n",
    "print(aits.__doc__)"
   ]
  },
  {
   "cell_type": "code",
   "execution_count": 22,
   "id": "7baaee85-7887-4d7f-ad7b-823e89de254b",
   "metadata": {},
   "outputs": [
    {
     "name": "stdout",
     "output_type": "stream",
     "text": [
      "140732518177456\n"
     ]
    }
   ],
   "source": [
    "# For finding the location of the variable\n",
    "\n",
    "name=\"N\"\n",
    "print(id(name))"
   ]
  },
  {
   "cell_type": "markdown",
   "id": "d449ce32-df39-4900-a6ae-284e372e23ea",
   "metadata": {},
   "source": [
    "### Naming convension\n",
    "\n",
    "- CamelCase\n",
    "  - Example: myVariableName\n",
    "  - Use in languages like JavaScript,Java and C# for variables\n",
    "- PascalCase\n",
    "  - Example: MyClass\n",
    "  - Use in languages like C#, Java for class names\n",
    "- UPPERCASE\n",
    "  - Example: MY_CONSTANT\n",
    "  - Often used for constants on languages like C and C++\n",
    "\n",
    "\n",
    "- In python there is no constant keyword. Instead we use UPPERCASE variable"
   ]
  },
  {
   "cell_type": "markdown",
   "id": "48f0cf9a-548a-473c-949b-634697f819b0",
   "metadata": {},
   "source": [
    "# Operators \n",
    "\n",
    "- Arithmetic\n",
    "  - Addition(+)\n",
    "  - Subtraction(-)\n",
    "  - Multiplication(*)\n",
    "  - Division(/)\n",
    "  - Floor division(//)\n",
    "  - Modular division(%)\n",
    "- Logical\n",
    "  - Logical AND\n",
    "  - Logical OR\n",
    "  - Logical NOT\n",
    "- Bitwise\n",
    "- Relational or comparision\n",
    "  - Greater than(>)\n",
    "  - less than(<)\n",
    "  - Equal to(==)\n",
    "  - less than or equal to(<=)\n",
    "  - greater than or equal to(>=)\n",
    "  - not equal(=!)\n",
    "- Assignment (-=,+=,*=,/=,//=,%=)\n",
    "- Membership operator\n",
    "  - in , not in\n",
    "- Identity operator\n",
    "  "
   ]
  },
  {
   "cell_type": "code",
   "execution_count": 34,
   "id": "5ae1ea11-e00d-41e4-a63b-0572c65d9b11",
   "metadata": {},
   "outputs": [
    {
     "name": "stdout",
     "output_type": "stream",
     "text": [
      "5\n"
     ]
    }
   ],
   "source": [
    "a=~-6\n",
    "print(a)  "
   ]
  },
  {
   "cell_type": "markdown",
   "id": "8cb5c90d-70b6-4c21-8378-9a5db5142a30",
   "metadata": {},
   "source": [
    "## To perform the Binary NOT operation use the formula -(n+1)"
   ]
  },
  {
   "cell_type": "markdown",
   "id": "f55b5a97-56e5-4cb7-9e56-78b6259f86ac",
   "metadata": {},
   "source": [
    "## Condition operations\n",
    "- If statement\n",
    "- If-else statement\n",
    "- IF-else ladder\n",
    "- nested if\n",
    "\n",
    "### in python there is no switch statement. Instead from python 3.10 we use match-case statement\n",
    "\n",
    "## Looping statements\n",
    "\n",
    "- for\n",
    "- while\n",
    "- nested-for\n",
    "- nested-while\n",
    "## Jump Statements\n",
    "- Continue\n",
    "- Break\n",
    "- goto\n",
    "- "
   ]
  },
  {
   "cell_type": "markdown",
   "id": "d71c6db0-e24f-4c5f-bd73-7d04c6ec87af",
   "metadata": {},
   "source": [
    "## Leap Year Conditions\n",
    "- Conditions\n",
    "- if the year divisible by 4 and 100 and 400 then it is a leapyear if not then it is not a leap year"
   ]
  },
  {
   "cell_type": "code",
   "execution_count": 21,
   "id": "d6d4a8be-4da2-40bd-a21f-503a57384537",
   "metadata": {},
   "outputs": [
    {
     "name": "stdin",
     "output_type": "stream",
     "text": [
      " 1600\n"
     ]
    },
    {
     "name": "stdout",
     "output_type": "stream",
     "text": [
      "It is a leap year\n"
     ]
    }
   ],
   "source": [
    "year=int(input())\n",
    "'''def leap_year(num):\n",
    "    if num%4==0:\n",
    "        if num%100==0:\n",
    "            if num%400==0:\n",
    "                print(\"It is a leap year\")\n",
    "            else:\n",
    "                print(\"IT is not a leap year\")\n",
    "        else:\n",
    "            print(\"It is a leap year\")\n",
    "    else:\n",
    "        print(\"It is not a leap year\")\n",
    "leap_year(year)'''\n",
    "\n",
    "\n",
    "## By using a simple if-else statement\n",
    "\n",
    "if (year%4==0) and (year%100!=0 or year%400==0):\n",
    "    print(\"It is a leap year\")\n",
    "else:\n",
    "    print(\"It is not a leap year\")"
   ]
  },
  {
   "cell_type": "code",
   "execution_count": 30,
   "id": "4d8a8610-87c1-452e-ad5d-e2964bc52867",
   "metadata": {},
   "outputs": [
    {
     "name": "stdin",
     "output_type": "stream",
     "text": [
      " ravi,block\n"
     ]
    },
    {
     "name": "stdout",
     "output_type": "stream",
     "text": [
      "ravi is in the block\n",
      "ravi is not on the floor\n"
     ]
    }
   ],
   "source": [
    "line = input()\n",
    "name, place = line.split(',')\n",
    "if place in [\"college\", \"block\", \"floor\", \"class\"]:\n",
    "    if place == \"college\":\n",
    "        print(f\"{name} just came to college\")\n",
    "    if place in [\"block\", \"floor\", \"class\"]:\n",
    "        print(f\"{name} is in the block\")\n",
    "        if place in [\"floor\", \"class\"]:\n",
    "            print(f\"{name} is in the floor\")\n",
    "            if place == \"class\":\n",
    "                print(f\"{name} is in the classroom\")\n",
    "            else:\n",
    "                print(f\"{name} is not in the classroom\")\n",
    "        else:\n",
    "            print(f\"{name} is not on the floor\")\n",
    "else:\n",
    "    print(f\"{name}'s location is unknown\")\n"
   ]
  },
  {
   "cell_type": "markdown",
   "id": "f90228d9-da4e-4202-b64b-26b74bd82c48",
   "metadata": {},
   "source": [
    "## Collection datatypes\n",
    "- list =[]\n",
    "- tuple=()\n",
    "- dictionary={}\n",
    "- set=set()"
   ]
  },
  {
   "cell_type": "markdown",
   "id": "6285599e-e8ac-479c-9969-6b2b3bc1ceea",
   "metadata": {},
   "source": [
    "## List\n",
    "\n",
    "- list is a collection of different datatypes which were ordered,mutable,indexed and support duplicate values.\n",
    "- We can create a list by using square brackets-[]\n",
    "- lists are dynamic"
   ]
  },
  {
   "cell_type": "code",
   "execution_count": 63,
   "id": "97c5fc02-1935-4e21-b792-3b0ed74603f1",
   "metadata": {},
   "outputs": [
    {
     "name": "stdout",
     "output_type": "stream",
     "text": [
      "<class 'list'>\n",
      "[6, (6+7j), 9.8, None, True, False, 'aits', 'Tirupati']\n",
      "\n",
      "6  (6+7j)  9.8  None  True  False  aits  Tirupati  \n",
      "True\n",
      "\n",
      "[None, True, False]\n",
      "\n",
      "['Tirupati', 'aits', False, True, None, 9.8, (6+7j), 6]\n"
     ]
    }
   ],
   "source": [
    "li=[]\n",
    "print(type(li))\n",
    "li2=[6,6+7j,9.8,None,True,False,'aits',\"Tirupati\"]\n",
    "print(li2)\n",
    "print()\n",
    "for i in li2:\n",
    "    print(i,end=\"  \")\n",
    "print()\n",
    "print(li2[4])   #Calling an object or element present in the list by using the indexing is called Subscribit operator\n",
    "print()\n",
    "print(li2[3:6])  # printing the subset of the original list is called list-slicing\n",
    "print()\n",
    "print(li2[::-1])"
   ]
  },
  {
   "cell_type": "markdown",
   "id": "3a69912f-ac1c-4e94-8633-d4fc2460601b",
   "metadata": {},
   "source": [
    "## List in-built functions\n",
    "- False values in python\n",
    "  - in integer ==> 0\n",
    "  - in float ==> 0.0\n",
    "  - in string ==> empty string\n",
    "  - in boolean ==> False\n",
    "  - in list ==> empty list[]\n",
    "  - in dictionary ==> empty dictionary\n",
    "  - in tuple ==> empty tuple\n",
    "  - in set ==> empty set()\n",
    "- len()  ===> Used to find the length of the list\n",
    "- max()  ===> Used to find the maximum element in the list and return that element(Applicable only when all the elements in the list are homogeneous) in strings it works by using lexicographic order\n",
    "- min()  ===> Used to find the minimum element in the list and return that element\n",
    "- sorted() ===> Gives the list in sorted order ie in ascending or descending order and it sorts temporarly\n",
    "- sum() ===> Works on numeric datatype only ie(numbers,complex) and adds all the elements in the list\n",
    "- list() ===> Used to create a new list\n",
    "- any() ===> Return boolean value True for atleast 1 true value\n",
    "- all() ===> Return boolean value but check for all true values"
   ]
  },
  {
   "cell_type": "code",
   "execution_count": 7,
   "id": "020929aa-e963-41cb-8c83-0c5b6dd4b52a",
   "metadata": {},
   "outputs": [
    {
     "name": "stdout",
     "output_type": "stream",
     "text": [
      "6\n",
      "55\n",
      "2\n",
      "121\n",
      "Sorted order [2, 3, 6, 11, 44, 55]\n",
      "Reversed sorted order [55, 44, 11, 6, 3, 2]\n"
     ]
    }
   ],
   "source": [
    "# example program for lists\n",
    "\n",
    "l1=[11,2,3,55,44,6]\n",
    "print(len(l1))\n",
    "print(max(l1))\n",
    "print(min(l1))\n",
    "print(sum(l1))\n",
    "print(\"Sorted order\",sorted(l1))\n",
    "print(\"Reversed sorted order\",sorted(l1,reverse=True))\n"
   ]
  },
  {
   "cell_type": "markdown",
   "id": "dc36f3f9-5020-4af8-aa7c-f445143a2896",
   "metadata": {},
   "source": [
    "##  Operators on list\n",
    "\n",
    "- Addition operator (+) or String addition\n",
    "  - It is used to add two lists into a single list\n",
    "  - Example: [1,2,3]+[4,5,6] then the result is [1,2,3,4,5,6]\n",
    "- Star operator (*) or String repetition\n",
    "  - This is used to list multiplication\n",
    "  - Example: let [1,2,3] be the list then [1,2,3]*3 would be [1,2,3,1,2,3,1,2,3]\n",
    "- Relational operator(<,>,<=,>=,!=)\n",
    "  - Used to define the relation between the two lists\n",
    "  - Example: if a=[1,2,3] and b=[4,5,6] then a<b return false\n",
    "  - The result will be obtained for the relational operators are by checking the elements in the list and applying the relational condition for them\n",
    "- Membership operator\n",
    "  - Used to check whether the given element is present in the list or not\n",
    "  - Example: let a=[1,2,3,4] the statement print(5 in a) return False because element 5 is not present in the list\n"
   ]
  },
  {
   "cell_type": "markdown",
   "id": "1bb3704c-b160-4a2a-b3f0-141b2192c9ec",
   "metadata": {},
   "source": [
    "## List Methods\n",
    "\n",
    "- append() ===> Used to insert the elements at the end of the list\n",
    "- extend() ===> Used to add two lists\n",
    "- insert() ===> Used to add or insert the elements at the specified index position\n",
    "- index() ===> Used to print the index position of the given specified element it returns false if the element is not present in the list\n",
    "- count() ==> Used to count the no.of occurances of the specified element in the list\n",
    "- remove() ===> REmoves the specified element in the list\n",
    "- pop() ===> removes the element at the specified index. If the index position is not specified then it removes the last element in the list. If the index position is greater than the length of the list then returns error \n",
    "- clear() ===> Clears a list and returns empty list\n",
    "- sort() ===> Sorts the list either in ascending or descending order\n",
    "- reverse() ===> reverse the original list"
   ]
  },
  {
   "cell_type": "code",
   "execution_count": 119,
   "id": "1b3341ed-0ce8-41d1-9bdd-4f577301bc92",
   "metadata": {},
   "outputs": [
    {
     "name": "stdout",
     "output_type": "stream",
     "text": [
      "Appending the element in the list [1, 2, 3, 4, 5, 6]\n",
      "Extending the element in the list [1, 2, 3, 4, 5, 6, 6, 7, 8, 9]\n",
      "Inserting element [1, 0, 2, 3, 4, 5, 6, 6, 7, 8, 9]\n",
      "Finding the index position of the element in the list 10\n",
      "Counting the no.of occurances of the element in the list 2\n",
      "Removing the element in the list [1, 0, 2, 3, 4, 6, 6, 7, 8, 9]\n",
      "Removing the element at the specfied index position: 1\n",
      "Clearing the elements in the list: []\n",
      "Sorting the element in the list: [1, 2, 3, 6, 7, 9, 84]\n",
      "Reversing the elements in the list: [9, 8, 7, 6, 6, 4, 3, 2, 0]\n"
     ]
    }
   ],
   "source": [
    "##Examples\n",
    "\n",
    "a=[1,2,3,4,5]\n",
    "b=[6,7,8,9]\n",
    "a.append(6)\n",
    "print(\"Appending the element in the list\",a) #a.append(6)\n",
    "a.extend(b)\n",
    "print(\"Extending the element in the list\",a) #a.extend(b)\n",
    "a.insert(1,0)\n",
    "print(\"Inserting element\",a) #a.insert(1,0)\n",
    "print(\"Finding the index position of the element in the list\",a.index(9))  #a.index(9)\n",
    "print(\"Counting the no.of occurances of the element in the list\",a.count(6))  #a.count(6)\n",
    "a.remove(5)\n",
    "print(\"Removing the element in the list\",a)  #a.remove(5)\n",
    "print(\"Removing the element at the specfied index position:\",a.pop(0))\n",
    "b.clear()\n",
    "print(\"Clearing the elements in the list:\",b)  #b.clear()\n",
    "c=[84,6,9,3,7,1,2]\n",
    "c.sort()\n",
    "print(\"Sorting the element in the list:\",c)  #c.sort()\n",
    "a.reverse()\n",
    "print(\"Reversing the elements in the list:\",a)  #a.reverse()"
   ]
  },
  {
   "cell_type": "code",
   "execution_count": 52,
   "id": "8ec4d69d-7a72-4d8a-98e6-f599f6bd6fec",
   "metadata": {},
   "outputs": [
    {
     "name": "stdin",
     "output_type": "stream",
     "text": [
      " 5\n",
      " 5\n",
      " 2\n",
      " 1 2 3 6 10\n"
     ]
    },
    {
     "data": {
      "text/plain": [
       "4"
      ]
     },
     "execution_count": 52,
     "metadata": {},
     "output_type": "execute_result"
    }
   ],
   "source": [
    "n=int(input())  #no.of houses\n",
    "c=int(input())  #no.of cats\n",
    "u=int(input())  #no.of units of food consumed by each cat\n",
    "arr=list(map(int,input().split(\" \")))\n",
    "def cats_consumed(n,c,u,arr):\n",
    "    if n==0:\n",
    "        return -1\n",
    "    required_food=c*u\n",
    "    food_count=0\n",
    "    for i in range(n):\n",
    "        food_count+=arr[i]\n",
    "        if food_count>=required_food:\n",
    "            return i+1\n",
    "    if food_count<required_food:\n",
    "        return -1\n",
    "cats_consumed(n,c,u,arr)\n",
    "            \n",
    "        "
   ]
  },
  {
   "cell_type": "code",
   "execution_count": 66,
   "id": "6a6b9358-4aaf-4e49-af7c-ba2f5726d5b2",
   "metadata": {},
   "outputs": [
    {
     "name": "stdin",
     "output_type": "stream",
     "text": [
      " 25361\n"
     ]
    },
    {
     "data": {
      "text/plain": [
       "[0, 4, 7, 8, 9]"
      ]
     },
     "execution_count": 66,
     "metadata": {},
     "output_type": "execute_result"
    }
   ],
   "source": [
    "# Finding the missing numbers in the given number\n",
    "n=int(input())\n",
    "def missing_number(n):\n",
    "    num=str(n)\n",
    "    missing=[]\n",
    "    for i in range(10):\n",
    "        if str(i) not in num:\n",
    "            missing.append(i)\n",
    "    return missing\n",
    "missing_number(n)"
   ]
  },
  {
   "cell_type": "code",
   "execution_count": 74,
   "id": "c2fed3e6-0399-4e58-8602-ed6022183556",
   "metadata": {},
   "outputs": [
    {
     "name": "stdin",
     "output_type": "stream",
     "text": [
      " 235\n"
     ]
    },
    {
     "data": {
      "text/plain": [
       "[False, False, True, True, False, True, False, False, False, False]"
      ]
     },
     "execution_count": 74,
     "metadata": {},
     "output_type": "execute_result"
    }
   ],
   "source": [
    "# ANother missing program logic\n",
    "num=int(input())\n",
    "def missing(num):\n",
    "    li=[False]*10\n",
    "    while num:\n",
    "        li[num%10]=True\n",
    "        num=num//10\n",
    "    return li\n",
    "missing(num)"
   ]
  },
  {
   "cell_type": "code",
   "execution_count": 82,
   "id": "f277165c-b649-4bba-a1d2-16b7b318069a",
   "metadata": {},
   "outputs": [
    {
     "name": "stdin",
     "output_type": "stream",
     "text": [
      " 1 2 3 4 5\n"
     ]
    },
    {
     "name": "stdout",
     "output_type": "stream",
     "text": [
      "[1, 4, 9, 16, 25]\n"
     ]
    }
   ],
   "source": [
    "a=list(map(int,input().split(\" \")))\n",
    "sq=[]\n",
    "for i in a:\n",
    "    sq.append(i*i)\n",
    "print(sq)"
   ]
  },
  {
   "cell_type": "markdown",
   "id": "78659e07-1745-44e2-bebc-3320c82b1fde",
   "metadata": {},
   "source": [
    "## List Comprehension\n",
    " Syntax\n",
    "- [expression for variable in sequence/iterable if condition]"
   ]
  },
  {
   "cell_type": "code",
   "execution_count": 85,
   "id": "4194b927-2574-450e-8c86-55531132a3b2",
   "metadata": {},
   "outputs": [
    {
     "name": "stdout",
     "output_type": "stream",
     "text": [
      "[1, 4, 9, 16, 25]\n"
     ]
    }
   ],
   "source": [
    "sq=[i*i for i in range(1,6)]\n",
    "print(sq)"
   ]
  },
  {
   "cell_type": "code",
   "execution_count": 93,
   "id": "16a37bf3-33d7-4839-bb63-2fd31ae761b3",
   "metadata": {},
   "outputs": [
    {
     "name": "stdout",
     "output_type": "stream",
     "text": [
      "[4, 16, 36, 64, 100]\n",
      "[0, 36, 144]\n",
      "['odd', 'even', 'odd', 'even', 'odd', 'even', 'odd', 'even', 'odd', 'even']\n"
     ]
    }
   ],
   "source": [
    "evensq=[i*i for i in range(1,11) if i%2==0]\n",
    "print(evensq)\n",
    "# the list which contains the squares of numbers which are divisible by 3 and 2\n",
    "l1=[i*i for i in range(0,16) if i%2==0 if i%3==0]\n",
    "print(l1)\n",
    "# The list replaced by \"even\" if it is a even number and \"odd\" if it is an odd number\n",
    "l2=[\"even\" if i%2==0 else \"odd\" for i in range(1,11)]\n",
    "print(l2)"
   ]
  },
  {
   "cell_type": "code",
   "execution_count": 97,
   "id": "9bbfeac6-5543-47e8-a55e-40b6ee6adbd4",
   "metadata": {},
   "outputs": [
    {
     "name": "stdin",
     "output_type": "stream",
     "text": [
      " 3\n"
     ]
    },
    {
     "name": "stdout",
     "output_type": "stream",
     "text": [
      "[1, 2, 'Fizz', 4, 5, 'Fizz', 7, 8, 'Fizz', 10, 11, 'Fizz', 13, 14, 'Fizz']\n"
     ]
    }
   ],
   "source": [
    "n=int(input())\n",
    "print([\"Fizz\" if i%n==0 else i for i in range(1,16)])"
   ]
  },
  {
   "cell_type": "code",
   "execution_count": null,
   "id": "40c332a8-0826-4544-9a25-b36e2300a512",
   "metadata": {},
   "outputs": [],
   "source": []
  }
 ],
 "metadata": {
  "kernelspec": {
   "display_name": "Python [conda env:base] *",
   "language": "python",
   "name": "conda-base-py"
  },
  "language_info": {
   "codemirror_mode": {
    "name": "ipython",
    "version": 3
   },
   "file_extension": ".py",
   "mimetype": "text/x-python",
   "name": "python",
   "nbconvert_exporter": "python",
   "pygments_lexer": "ipython3",
   "version": "3.12.7"
  }
 },
 "nbformat": 4,
 "nbformat_minor": 5
}
