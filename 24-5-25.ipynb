{
 "cells": [
  {
   "cell_type": "markdown",
   "id": "5e6da991-6ac7-4f5f-9538-ad9995684f26",
   "metadata": {},
   "source": [
    "# Day 2"
   ]
  },
  {
   "cell_type": "code",
   "execution_count": 45,
   "id": "a1eeb6bc-c562-4c06-9e3d-c8f8ad508af2",
   "metadata": {},
   "outputs": [
    {
     "name": "stdin",
     "output_type": "stream",
     "text": [
      " CApit@@l1\n"
     ]
    },
    {
     "name": "stdout",
     "output_type": "stream",
     "text": [
      "Valid Secret Code\n",
      "Capital-2\n",
      "Small-4\n",
      "Numbers-1\n",
      "Space-0\n",
      "Special characters-2\n"
     ]
    }
   ],
   "source": [
    "# Checking whether the given string is valid code or not\n",
    "\n",
    "code=input()\n",
    "length=len(code)\n",
    "numbers=0\n",
    "special_char=0\n",
    "small=0\n",
    "capital=0\n",
    "space=0\n",
    "for i in code:\n",
    "    if i.isupper():\n",
    "        capital+=1\n",
    "    elif i.islower():\n",
    "        small+=1\n",
    "    elif i.isdigit():\n",
    "        numbers+=1\n",
    "    elif i in ['@','#','$']:\n",
    "        special_char+=1\n",
    "    elif i.isspace():\n",
    "        space+=1\n",
    "if (code[0].isupper() and capital >= 2 and small >= 2 and numbers >= 1 and space == 0 and special_char >= 1 and len(code) > 8):\n",
    "    print(\"Valid Secret Code\")\n",
    "else:\n",
    "    print(\"Invalid\")\n",
    "print(f\"Capital-{capital}\")\n",
    "print(f\"Small-{small}\")\n",
    "print(f\"Numbers-{numbers}\")\n",
    "print(f\"Space-{space}\")\n",
    "print(f\"Special characters-{special_char}\")"
   ]
  },
  {
   "cell_type": "code",
   "execution_count": 31,
   "id": "05946e96-e3f4-4d3c-97aa-bef3e81a43e2",
   "metadata": {},
   "outputs": [
    {
     "name": "stdout",
     "output_type": "stream",
     "text": [
      "True\n"
     ]
    }
   ],
   "source": [
    "630387947"
   ]
  },
  {
   "cell_type": "code",
   "execution_count": 95,
   "id": "77ac15b3-9835-4b41-9e5c-714b7567e86a",
   "metadata": {},
   "outputs": [
    {
     "name": "stdout",
     "output_type": "stream",
     "text": [
      "[2, 4]\n"
     ]
    }
   ],
   "source": [
    "li=[1,2,3,4]\n",
    "for i in li:\n",
    "    li.remove(i)\n",
    "print(li)"
   ]
  },
  {
   "cell_type": "markdown",
   "id": "6ba38edb-73db-474e-88cd-7aaf013ba2e8",
   "metadata": {},
   "source": [
    "# Tuple\n",
    "\n",
    "- A tuple is collection of different datatypes which is indexed, immutable and allows duplicate values\n",
    "- We can create tuples using round brackets ()"
   ]
  },
  {
   "cell_type": "code",
   "execution_count": 109,
   "id": "9bee615e-10d0-48dd-8512-5212a93325f5",
   "metadata": {},
   "outputs": [
    {
     "name": "stdout",
     "output_type": "stream",
     "text": [
      "<class 'tuple'>\n",
      "['__add__', '__class__', '__class_getitem__', '__contains__', '__delattr__', '__dir__', '__doc__', '__eq__', '__format__', '__ge__', '__getattribute__', '__getitem__', '__getnewargs__', '__getstate__', '__gt__', '__hash__', '__init__', '__init_subclass__', '__iter__', '__le__', '__len__', '__lt__', '__mul__', '__ne__', '__new__', '__reduce__', '__reduce_ex__', '__repr__', '__rmul__', '__setattr__', '__sizeof__', '__str__', '__subclasshook__', 'count', 'index']\n"
     ]
    }
   ],
   "source": [
    "t=(1.99,'happy',[1,2,3],None)\n",
    "print(type(t))\n",
    "print(dir(t))"
   ]
  },
  {
   "cell_type": "markdown",
   "id": "cf632642-e6ef-4bee-a668-dccc413f9a64",
   "metadata": {},
   "source": [
    "# Operations on tuple\n",
    "\n",
    "- Concatination\n",
    "  - let t1=(1,2,3) and t2=(4,5,6) then t1+t2=(1,2,3,4,5,6)\n",
    "- Repetition\n",
    "  - let t1=(1,2,3) then t1*3=(1,2,3,1,2,3,1,2,3)\n",
    "- Relational\n",
    "  - let t1=(1,2,3) and t2=(0,2,6) then t1 >=t2 will be True\n",
    "- Membership\n",
    "  - It results true if the given element is in the tuple\n",
    "  - Example: let t1=(100,220,330) then the result of the statement 300 in t1 results False\n",
    "- Identity\n",
    "  - it used to compare two tuples\n",
    "  - uses is and is not operators\n"
   ]
  },
  {
   "cell_type": "markdown",
   "id": "651331fe-b063-4615-aa2f-623c3896d12b",
   "metadata": {},
   "source": [
    "# Inbuilt operations on tuple\n",
    "\n",
    "- len()\n",
    "- max()\n",
    "- min()\n",
    "- sum()\n",
    "- sorted()\n",
    "- tuple()\n",
    "- any()\n",
    "- all()"
   ]
  },
  {
   "cell_type": "code",
   "execution_count": 115,
   "id": "9937a2eb-c5c1-461c-9a7c-819934009fe6",
   "metadata": {},
   "outputs": [
    {
     "name": "stdout",
     "output_type": "stream",
     "text": [
      "[1, 3, 4, 5, 6, 7, 9]\n"
     ]
    }
   ],
   "source": [
    "t1=(1,4,3,7,6,5,9)\n",
    "print(sorted(t1))"
   ]
  },
  {
   "cell_type": "markdown",
   "id": "279442ec-e942-46bc-8646-d0b2e6bece57",
   "metadata": {},
   "source": [
    "- The tuple() operator used to convert the given data into tuple\n",
    "- the sorted() operator used to return the sorted order in the form of a list"
   ]
  },
  {
   "cell_type": "markdown",
   "id": "41c24925-0d7a-4a9d-8214-8deecd7ad63a",
   "metadata": {},
   "source": [
    "# Methods in tuple\n",
    "\n",
    "- Only two methods applicable in tuple. They are\n",
    "  - index()\n",
    "  - count()"
   ]
  },
  {
   "cell_type": "markdown",
   "id": "2cc1f4ff-d08e-44a2-b19f-8d56523d016e",
   "metadata": {},
   "source": [
    "# Packing-Unpacking in tuples"
   ]
  },
  {
   "cell_type": "code",
   "execution_count": 122,
   "id": "37b4c8ec-e028-46d3-b015-f3266dc6478d",
   "metadata": {},
   "outputs": [
    {
     "name": "stdout",
     "output_type": "stream",
     "text": [
      "('kiran', 'happy', 'josh')\n",
      "kiran\n",
      "happy\n",
      "josh\n"
     ]
    }
   ],
   "source": [
    "pack='kiran','happy','josh'    #Packing \n",
    "print(pack)\n",
    "n1,n2,n3=pack    # Unpacking\n",
    "print(n1)\n",
    "print(n2)\n",
    "print(n3)"
   ]
  },
  {
   "cell_type": "markdown",
   "id": "87c14e71-e683-4003-87dd-d89cb43da7b0",
   "metadata": {},
   "source": [
    "# Arbitrary variable\n",
    "\n",
    "- The variable with highest preference\n",
    "- We can declare atmost 1 arbitary variable"
   ]
  },
  {
   "cell_type": "code",
   "execution_count": 137,
   "id": "751302df-8cbe-4d88-ac66-cbbefdcbff03",
   "metadata": {},
   "outputs": [
    {
     "name": "stdout",
     "output_type": "stream",
     "text": [
      "1 [1, 1, 1] 1\n"
     ]
    }
   ],
   "source": [
    "suresh,*ramesh,naresh=(1,1,1,1,1)\n",
    "print(suresh,ramesh,naresh)"
   ]
  },
  {
   "cell_type": "markdown",
   "id": "f73e98e1-7e8a-4cdf-8478-cee544b7f6b2",
   "metadata": {},
   "source": [
    "## Sets\n",
    "\n",
    "- A set is a collection of different datatypes which are unordered,unindexed and does not allow duplicate values\n",
    "- set elements are enclosed in flower braces {}"
   ]
  },
  {
   "cell_type": "code",
   "execution_count": 154,
   "id": "64226968-0934-42e4-a948-a2927ab0d485",
   "metadata": {},
   "outputs": [
    {
     "name": "stdout",
     "output_type": "stream",
     "text": [
      "<class 'set'>\n",
      "['__and__', '__class__', '__class_getitem__', '__contains__', '__delattr__', '__dir__', '__doc__', '__eq__', '__format__', '__ge__', '__getattribute__', '__getstate__', '__gt__', '__hash__', '__iand__', '__init__', '__init_subclass__', '__ior__', '__isub__', '__iter__', '__ixor__', '__le__', '__len__', '__lt__', '__ne__', '__new__', '__or__', '__rand__', '__reduce__', '__reduce_ex__', '__repr__', '__ror__', '__rsub__', '__rxor__', '__setattr__', '__sizeof__', '__str__', '__sub__', '__subclasshook__', '__xor__', 'add', 'clear', 'copy', 'difference', 'difference_update', 'discard', 'intersection', 'intersection_update', 'isdisjoint', 'issubset', 'issuperset', 'pop', 'remove', 'symmetric_difference', 'symmetric_difference_update', 'union', 'update']\n",
      "[1, 2, 3, 4, 6, 9]\n"
     ]
    }
   ],
   "source": [
    "s=set()\n",
    "print(type(s))\n",
    "print(dir(s))\n",
    "d={1,4,3,6,2,9}\n",
    "print(sorted(d))"
   ]
  },
  {
   "cell_type": "markdown",
   "id": "0fbc5271-5197-45ef-bcda-8e28fc1cb026",
   "metadata": {},
   "source": [
    "## Operators on set\n",
    "\n",
    "- we cannot perform concatenation and replication on the sets\n",
    "- we can perform other operators like membership, relational, identity operators"
   ]
  },
  {
   "cell_type": "markdown",
   "id": "86bffcf7-0c3c-4129-8dae-0d0d32d92371",
   "metadata": {},
   "source": [
    "## Inbuilt functions in set\n",
    "- The inbult functions is same as other methods of list, tuples like min(),max(),count(),sorted() etc.\n",
    "- but if we use the sorted function then it returns the output of sorted order in list format"
   ]
  },
  {
   "cell_type": "markdown",
   "id": "cc7a585a-cf80-4fc6-99bb-49c8f4e6b95a",
   "metadata": {},
   "source": [
    "## Methods on set\n",
    "\n",
    "- add()===> used to add elements into the set syntax=set_name.add(element)\n",
    "- update()===> used to update a set with another set syntax=set_name.update({updated_set})\n",
    "- remove()===> removes the specified element in the list. if the element not present in the list then it raises an error    syntax=set_name.remove(element)\n",
    "- discard() ===> It also removes the specified element in the list. If the element is not present in the list then it doesn't raises any error  syntax=sett_name.discard(element) \n",
    "- clear()===> used to clear all the elements on the list   syntax  set_name.clear()\n"
   ]
  },
  {
   "cell_type": "code",
   "execution_count": 184,
   "id": "279ef152-41d1-4487-b749-cf3c5dd0c02e",
   "metadata": {},
   "outputs": [
    {
     "name": "stdout",
     "output_type": "stream",
     "text": [
      "{1, 2, 3, 4, 5, 6, 7}\n",
      "{1, 2, 3, 4, 5, 6, 7, 8, 9}\n",
      "{1, 2, 3, 4, 5, 6, 7, 8}\n",
      "{1, 2, 3, 4, 5, 6, 7, 8}\n",
      "set()\n"
     ]
    }
   ],
   "source": [
    "s={1,2,3,4,5,6}\n",
    "s.add(7)  # Adding element into the set\n",
    "print(s)\n",
    "s.update({7,8,9})  #Updates the set\n",
    "print(s)\n",
    "s.remove(9)   #removes the specified element\n",
    "print(s)\n",
    "s.discard(88)  #removes the specified element if it is present in the list. if it not present then returns the original set\n",
    "print(s)\n",
    "s.clear()  ## clears the element in the list\n",
    "print(s)"
   ]
  },
  {
   "cell_type": "markdown",
   "id": "95288588-d7cc-457d-b00e-b0706488e7eb",
   "metadata": {},
   "source": [
    "## Mathematical operations on set\n",
    "\n",
    "- union() ===> Returns all the elements in the from both sets                                                   syntax=set1.union(set2)\n",
    "- update() ===> updates the set elements with new set                                                           syntax=set1.update(set2)\n",
    "- difference() ===> Returns the unique elements in the set1 and it is temporary                                 suntax=set.difference(set2)\n",
    "- difference_update() ===> Returns the unique elements in the set11 and it is permanent                         syntax=set1.difference_update(set2)\n",
    "- intersection() ===> returns only the common elements in both sets                                             syntax=set1.intersection(set2)\n",
    "- intersection_update() ===>returns only the common elements and updates the set1 with the commonthings         syntax=set1.intersection_update(set2)\n",
    "- symmetric_difference()===> Removes the common elements present in the two lists and gives the remaining       syntax=set1.symmetric_difference(set2)\n",
    "- symmetric_difference_update()===>removes the common elements present in the two lists and updtes the set1 with the common elements\n",
    "- isdisjoint() ===> it returns true if two sets does not contains any similar values otherwise it returns false  syntax=set1.isdisjoint(set2)\n",
    "- issubset() ===>Checks whether all the elements present in set1 present in set2 then we can say set1 is a subset of set2   syntax=set1.issubset(set2)\n",
    "- issuperset() ===>"
   ]
  },
  {
   "cell_type": "code",
   "execution_count": 182,
   "id": "07faf8b5-1b4f-4d15-bfd9-faeae09979ad",
   "metadata": {},
   "outputs": [
    {
     "name": "stdout",
     "output_type": "stream",
     "text": [
      "{1, 2, 3, 4, 5, 6, 7, 8, 9}\n",
      "{1, 2, 3, 4, 5, 6, 7, 8, 9}\n",
      "{1, 2, 6}\n",
      "{1, 2, 6}\n",
      "{1, 2, 6}\n",
      "set()\n"
     ]
    }
   ],
   "source": [
    "s1={1,2,3,4,5,6}\n",
    "s2={4,5,9,7,8,3}\n",
    "print(s1.union(s2))\n",
    "print(s1 | s2)   #Mathematical representation of union\n",
    "print(s1.difference(s2))  #return unique elements from set1\n",
    "print(s1-s2)  # mathematical representation of difference\n",
    "s1.difference_update(s2)   # it is permanent\n",
    "print(s1)  \n",
    "print(s1.intersection(s2))  # prints only the common elements present in the two lists"
   ]
  },
  {
   "cell_type": "markdown",
   "id": "fac53ef8-d041-4e5c-bf0b-be6d7266a6fa",
   "metadata": {},
   "source": [
    "- Sets internally uses hasing process"
   ]
  },
  {
   "cell_type": "markdown",
   "id": "eeb6e0b3-6d5c-416c-bb6e-495d8d14093a",
   "metadata": {},
   "source": [
    " # Dictionaries\n",
    "\n",
    " - Dictionaries are used to store key and value pairs which are ordered,mutable and allows duplicate elements in values\n",
    " - we can store inside curley braces in the form of key and values\n",
    " - We cannot perform slicing in dictionaries because in dictionaries it doesnt contains any indexes\n",
    " - It doesnt support the concatenation and repetition. It supports "
   ]
  },
  {
   "cell_type": "code",
   "execution_count": 3,
   "id": "55a6db87-c153-4d95-b5dd-9bed52d239b3",
   "metadata": {},
   "outputs": [
    {
     "name": "stdout",
     "output_type": "stream",
     "text": [
      "<class 'dict'>\n"
     ]
    }
   ],
   "source": [
    "d={}  # empty dictionary\n",
    "print(type(d))"
   ]
  },
  {
   "cell_type": "code",
   "execution_count": 39,
   "id": "eb6e7c25-a4d3-431b-96f4-b955f377d3a7",
   "metadata": {},
   "outputs": [
    {
     "name": "stdout",
     "output_type": "stream",
     "text": [
      "{1: 'ethical hacking', 2: 'cyber security', 3: 'Stegography', 4: 'kali linux', 5: 'FatRat'}\n",
      "dict_keys([1, 2, 3, 4, 5])\n",
      "dict_values(['ethical hacking', 'cyber security', 'Stegography', 'kali linux', 'FatRat'])\n",
      "dict_items([(1, 'ethical hacking'), (2, 'cyber security'), (3, 'Stegography'), (4, 'kali linux'), (5, 'FatRat')])\n",
      "{1: 'ethical hacking', 2: 'cyber security', 3: 'Stegography', 4: 'kali linux', 5: 'FatRat'}\n",
      "{1: 'ethical hacking', 2: 'cyber security', 3: 'Stegography', 4: 'kali linux', 5: 'FatRat', 6: 'Ngrok'}\n",
      "{1: 'ethical hacking', 2: 'cyber security', 3: 'Stegography', 4: 'kali linux', 5: 'FatRat'}\n",
      "{1: 'ethical hacking', 2: 'cyber security', 3: 'Stegography', 4: 'kali linux'}\n"
     ]
    }
   ],
   "source": [
    "d={1:\"ethical hacking\",2:\"cyber security\",3:\"Stegography\",4:\"kali linux\",5:\"FatRat\"}\n",
    "print(d)\n",
    "print(d.keys())     # for accessing only the keys \n",
    "print(d.values())   # for accessing only the values \n",
    "print(d.items())    # for accessing both keys and values\n",
    "print(d)\n",
    "d[6]=\"Ngrok\"        # adding a new key and value\n",
    "print(d)\n",
    "d.pop(6)\n",
    "print(d)\n",
    "d.popitem()\n",
    "print(d)"
   ]
  },
  {
   "cell_type": "code",
   "execution_count": 22,
   "id": "4ec4ddaa-d229-4a6c-aa6e-9e612c4942eb",
   "metadata": {},
   "outputs": [
    {
     "name": "stdout",
     "output_type": "stream",
     "text": [
      "['__class__', '__class_getitem__', '__contains__', '__delattr__', '__delitem__', '__dir__', '__doc__', '__eq__', '__format__', '__ge__', '__getattribute__', '__getitem__', '__getstate__', '__gt__', '__hash__', '__init__', '__init_subclass__', '__ior__', '__iter__', '__le__', '__len__', '__lt__', '__ne__', '__new__', '__or__', '__reduce__', '__reduce_ex__', '__repr__', '__reversed__', '__ror__', '__setattr__', '__setitem__', '__sizeof__', '__str__', '__subclasshook__', 'clear', 'copy', 'fromkeys', 'get', 'items', 'keys', 'pop', 'popitem', 'setdefault', 'update', 'values']\n"
     ]
    }
   ],
   "source": [
    "d={}\n",
    "print(dir(d))"
   ]
  },
  {
   "cell_type": "markdown",
   "id": "2c43894a-24de-4655-9f5a-cb5f0b1e793a",
   "metadata": {},
   "source": [
    "# Adding a new key \n",
    "\n",
    "- In order to add a new key we can use the below syntax\n",
    "  - Syntax: DIctionary_name[key]=value\n",
    "- If the key is already exist in the dictionary then the previous value will be replaced by the new value. If not then the new key and value will be added to the dictionary\n",
    "\n",
    "# Removing a key from the dictionary\n",
    "\n",
    "- the key and value will be removed from the key by using two methods\n",
    "  - pop()  ==> this method will takes key as a parameter and based on the keys it will remove the key\n",
    "  - popitem() ==> this will remove the lastly added key into the dictionary\n",
    "\n",
    "# Getting the value for a particular key\n",
    "- it will be obtained by using the get method\n",
    "- the get method will return the value of the specified key if it is exists in the dictionary. If the key is not present then it will return None\n",
    "- Syntax: dict_name.get(key)\n",
    "\n",
    "# Setdefault method\n",
    "- the setdefault method is same as get method but instead of returning none it adds new key to the dictionary if the key which we specified it the setdefault method\n",
    "- Syntax: dict_name.setdefault(key,default_value)\n",
    "\n",
    "# Fromkeys method\n",
    "- it is used to assign a constant value to the list of keys\n",
    "- let l1 be the list of keys and the constant value will be 100 then the syntax would be\n",
    "  - dict_name.fromkeys(l1,100)\n",
    "# Sorted method\n",
    "- used to sort the dictionary\n",
    "- Syntax\n",
    "  - sorted(dict_name) ===> gives the sorted order of keys in a list format\n",
    "  - sorted(dict_name.values()) ===> gives the sorted order of the values\n",
    "  - sorted(dict_name.items()) ===> gives the sorted order of items"
   ]
  },
  {
   "cell_type": "code",
   "execution_count": 59,
   "id": "35f22437-f006-4657-ba43-d52db34f7d88",
   "metadata": {},
   "outputs": [
    {
     "name": "stdout",
     "output_type": "stream",
     "text": [
      "{1: 'Ethical Hacking', 2: 'Cyber Security', 3: 'FatRat'}\n"
     ]
    }
   ],
   "source": [
    "list1=[1,2,3]\n",
    "list2=[\"Ethical Hacking\",\"Cyber Security\",\"FatRat\"]\n",
    "print(dict(zip(list1,list2)))"
   ]
  },
  {
   "cell_type": "code",
   "execution_count": 79,
   "id": "fa03e95f-4ae6-4170-9f3a-a664e898514e",
   "metadata": {},
   "outputs": [
    {
     "name": "stdin",
     "output_type": "stream",
     "text": [
      "Enter the no.of players 5\n",
      " Dhoni 96\n",
      " rohit 264\n",
      " rahul 150\n",
      " pandya 156\n",
      " pant 64\n"
     ]
    },
    {
     "name": "stdout",
     "output_type": "stream",
     "text": [
      "{'Dhoni': 96, 'rohit': 264, 'rahul': 150, 'pandya': 156, 'pant': 64}\n",
      "The maximum score is : 264\n"
     ]
    }
   ],
   "source": [
    "n=int(input(\"Enter the no.of players\"))\n",
    "record={}\n",
    "for i in range(n):\n",
    "    player,score=input().split()\n",
    "    record[player]=int(score)\n",
    "print(\"The maximum score is :\",max(record.values()))"
   ]
  },
  {
   "cell_type": "code",
   "execution_count": 92,
   "id": "749fef4d-1aac-4121-9d2f-c8dbbed09e0b",
   "metadata": {},
   "outputs": [
    {
     "name": "stdout",
     "output_type": "stream",
     "text": [
      "{'vinod': 5, 'sriram': 6, 'jyoshna': 7, 'faiza': 5}\n"
     ]
    }
   ],
   "source": [
    "names=['vinod','sriram','jyoshna','faiza']\n",
    "print({i:len(i) for i in names})"
   ]
  },
  {
   "cell_type": "markdown",
   "id": "f083d8d4-1a9a-49fc-8756-a21325a969ed",
   "metadata": {},
   "source": [
    "# Dictionaty comprehension\n",
    "- Syntax:\n",
    "  - {key:value for (k,v) in iterable}"
   ]
  },
  {
   "cell_type": "code",
   "execution_count": 94,
   "id": "c7c36893-222b-43ab-8352-603aa5efa1b8",
   "metadata": {},
   "outputs": [
    {
     "name": "stdout",
     "output_type": "stream",
     "text": [
      "{10: 100, 12: 144, 14: 196}\n"
     ]
    }
   ],
   "source": [
    "print({k:k*k for k in range(10,16) if k%2==0})"
   ]
  },
  {
   "cell_type": "code",
   "execution_count": 102,
   "id": "8e94be2e-128a-4004-8531-9a0c7aa65c7d",
   "metadata": {},
   "outputs": [
    {
     "name": "stdout",
     "output_type": "stream",
     "text": [
      "{'sriram': 'evenlength', 'jyoshna': 'oddlength'}\n"
     ]
    }
   ],
   "source": [
    "names=['vinod','sriram','jyoshna','faiza']\n",
    "print({i:\"evenlength\" if len(i)%2==0 else \"oddlength\" for i in names if len(i)>5})"
   ]
  },
  {
   "cell_type": "markdown",
   "id": "893e04b0-ce1b-4a5f-b114-e4f2fbbd7989",
   "metadata": {},
   "source": [
    "string=input()\n",
    "print({i:string.count(i) for i in string})"
   ]
  },
  {
   "cell_type": "markdown",
   "id": "ee7151fb-d893-4ce3-a093-d321281aebba",
   "metadata": {},
   "source": [
    "# Collections Module\n",
    "\n",
    "- Counter ===> Used to count the frequency of the each element in the given sequence\n",
    "- defaultdict\n",
    "- deque\n",
    "- namedtuple\n"
   ]
  },
  {
   "cell_type": "code",
   "execution_count": 6,
   "id": "d22398a1-1c91-4706-bbfb-5fb7c525e27c",
   "metadata": {},
   "outputs": [
    {
     "name": "stdout",
     "output_type": "stream",
     "text": [
      "['ChainMap', 'Counter', 'OrderedDict', 'UserDict', 'UserList', 'UserString', '_Link', '_OrderedDictItemsView', '_OrderedDictKeysView', '_OrderedDictValuesView', '__all__', '__builtins__', '__cached__', '__doc__', '__file__', '__loader__', '__name__', '__package__', '__path__', '__spec__', '_chain', '_collections_abc', '_count_elements', '_deque_iterator', '_eq', '_iskeyword', '_itemgetter', '_proxy', '_recursive_repr', '_repeat', '_starmap', '_sys', '_tuplegetter', 'abc', 'defaultdict', 'deque', 'namedtuple']\n"
     ]
    }
   ],
   "source": [
    "import collections as c\n",
    "print(dir(c))"
   ]
  },
  {
   "cell_type": "markdown",
   "id": "74df95e1-4b0e-4776-8a75-fc02e5b4980d",
   "metadata": {},
   "source": [
    "# Counter"
   ]
  },
  {
   "cell_type": "code",
   "execution_count": 15,
   "id": "3d4fc121-f1d9-4aaf-bbbe-e0f71d024b8d",
   "metadata": {},
   "outputs": [
    {
     "name": "stdout",
     "output_type": "stream",
     "text": [
      "[7, 8, 6, 3, 3, 4, 6, 1, 3, 2]\n",
      "Counter({3: 3, 6: 2, 7: 1, 8: 1, 4: 1, 1: 1, 2: 1})\n"
     ]
    }
   ],
   "source": [
    "from collections import Counter\n",
    "import random\n",
    "# Syntax: variable=Counter(sequence)\n",
    "\n",
    "string=[random.randrange(1,9) for i in range(10)]\n",
    "print(string)\n",
    "var=Counter(string)\n",
    "print(var)"
   ]
  },
  {
   "cell_type": "markdown",
   "id": "63d3ccd8-faf5-4988-8eca-4f6fbce3432b",
   "metadata": {},
   "source": [
    "# Defaultdict\n",
    "\n",
    "- defaultdict is sub class of inbuilt class dict\n",
    "  - Syntax:\n",
    "    - var=defaultdict(default_factory)\n",
    "    - here default_factory nothing but the datatypes\n",
    "- it is used for overcoming the keyerror for normal dictionaries\n",
    "- for example if we want to return the value of a specified key which is not in the dictionary then it returns a keyerror. To overcome this we use defaultdict"
   ]
  },
  {
   "cell_type": "code",
   "execution_count": 32,
   "id": "de75b679-a966-49f2-9527-5b7b24e764da",
   "metadata": {},
   "outputs": [
    {
     "name": "stdout",
     "output_type": "stream",
     "text": [
      "1\n",
      "2\n",
      "0\n",
      "['kohli']\n",
      "[]\n"
     ]
    }
   ],
   "source": [
    "from collections import defaultdict\n",
    "d=defaultdict(int)\n",
    "d['a']=1\n",
    "d['b']=2\n",
    "print(d['a'])\n",
    "print(d['b'])\n",
    "print(d['c'])     # Here the dictionary doesn't contain any 'c' named key and it prints the default value i.e 0\n",
    "\n",
    "b=defaultdict(list)\n",
    "b['cricket'].append('kohli')\n",
    "b['badmintion'].append('sindhu')\n",
    "print(b['cricket'])\n",
    "print(b['footbal'])"
   ]
  },
  {
   "cell_type": "code",
   "execution_count": 13,
   "id": "7a4e800e-2e29-48e5-8675-415d5531356a",
   "metadata": {},
   "outputs": [
    {
     "name": "stdout",
     "output_type": "stream",
     "text": [
      "[0, 1, 1, 2, 3, 5, 8, 13, 21, 34, 55]\n"
     ]
    }
   ],
   "source": [
    "def fib(n):\n",
    "    fib1,fib2=0,1\n",
    "    series=[]\n",
    "    series.append(fib1)\n",
    "    series.append(fib2)\n",
    "    for i in range(n-1):\n",
    "        fib3=fib1+fib2\n",
    "        series.append(fib3)\n",
    "        fib1=fib2\n",
    "        fib2=fib3\n",
    "    return series\n",
    "print(fib(10))"
   ]
  },
  {
   "cell_type": "code",
   "execution_count": null,
   "id": "3b17e580-1c5a-442a-b5f3-1a918048c340",
   "metadata": {},
   "outputs": [],
   "source": []
  }
 ],
 "metadata": {
  "kernelspec": {
   "display_name": "Python [conda env:base] *",
   "language": "python",
   "name": "conda-base-py"
  },
  "language_info": {
   "codemirror_mode": {
    "name": "ipython",
    "version": 3
   },
   "file_extension": ".py",
   "mimetype": "text/x-python",
   "name": "python",
   "nbconvert_exporter": "python",
   "pygments_lexer": "ipython3",
   "version": "3.12.7"
  }
 },
 "nbformat": 4,
 "nbformat_minor": 5
}
